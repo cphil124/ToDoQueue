{
 "cells": [
  {
   "cell_type": "code",
   "execution_count": 10,
   "metadata": {},
   "outputs": [],
   "source": [
    "import PySimpleGUI as sg\n",
    "from ToDoQueue.queue.task import Task\n",
    "from ToDoQueue.queue_manager import ToDo"
   ]
  },
  {
   "cell_type": "code",
   "execution_count": 11,
   "metadata": {},
   "outputs": [],
   "source": [
    "sample = Task(name='test',description='Task for testing Gui with', est_mins_to_finish=10, priority=False, link='')\n",
    "sample2 = Task(name='test2',description='Another Task for testing Gui with', est_mins_to_finish=8, priority=False, link='')"
   ]
  },
  {
   "cell_type": "code",
   "execution_count": 12,
   "metadata": {},
   "outputs": [],
   "source": [
    "\n",
    "\n",
    "current_task = sample"
   ]
  },
  {
   "cell_type": "code",
   "execution_count": 13,
   "metadata": {},
   "outputs": [],
   "source": [
    "def update_window(window:sg.Window, new_task:Task) -> sg.Window:\n",
    "    window['-MIN_NAME-'].update(new_task.name)\n",
    "    window['-MIN_ETC-'].update(new_task.est_mins_to_finish)\n",
    "    window['-MAX_NAME-'].update(new_task.name)\n",
    "    window['-MAX_ETC-'].update(new_task.est_mins_to_finish)\n",
    "    window['-MAX_LINK-'].update(new_task.rel_link)\n",
    "    window['-MAX_DESCR-'].update(new_task.description)\n",
    "    current_task = new_task\n",
    "    return window"
   ]
  },
  {
   "cell_type": "code",
   "execution_count": 14,
   "metadata": {},
   "outputs": [],
   "source": [
    "FORM_DEFAULTS = {\n",
    "    '-NEW_NAME-':'New Task Name',\n",
    "    '-NEW_PRIO-':'Priority Item?',\n",
    "    '-NEW_DESCR-':'New Task Description',\n",
    "    '-NEW_ETC-':'Estimated Time to Complete Task',\n",
    "    '-NEW_LINK-':'New Task Link',\n",
    "}\n"
   ]
  },
  {
   "cell_type": "code",
   "execution_count": 15,
   "metadata": {},
   "outputs": [],
   "source": [
    "def clear_new_task(window:sg.Window) -> sg.Window:\n",
    "    for key in FORM_DEFAULTS.keys():\n",
    "        if key == '-NEW_PRIO-':\n",
    "            window[key].update(False)\n",
    "        else:\n",
    "            window[key].update(FORM_DEFAULTS[key])\n",
    "    return window"
   ]
  },
  {
   "cell_type": "code",
   "execution_count": 16,
   "metadata": {},
   "outputs": [],
   "source": [
    "new_task_layout = [[sg.Text('New Task'), \n",
    "                    sg.InputText(key=\"-NEW_NAME-\",default_text=FORM_DEFAULTS[\"-NEW_NAME-\"]), sg.Checkbox(key=\"-NEW_PRIO-\", text=FORM_DEFAULTS[\"-NEW_PRIO-\"], default=False)], # Line 1\n",
    "                    [sg.InputText(key=\"-NEW_LINK-\",default_text=FORM_DEFAULTS[\"-NEW_LINK-\"]), \n",
    "                    sg.InputText(key=\"-NEW_ETC-\",default_text=FORM_DEFAULTS[\"-NEW_ETC-\"])], # Line 2\n",
    "                    [sg.Multiline(key=\"-NEW_DESCR-\",default_text=FORM_DEFAULTS[\"-NEW_DESCR-\"])], # Line 3\n",
    "                    [sg.Button('Submit')]]\n",
    "\n",
    "cur_task_min_layout = [[sg.Text('Current Task Min')],\n",
    "                        [sg.Text(f\"{current_task.name}\", key='-MIN_NAME-'), sg.Text(f\"{current_task.est_mins_to_finish}\", key='-MIN_ETC-')],\n",
    "                        [sg.Button('Max'), sg.Button('Complete'), sg.Button('Exit')]]\n",
    "\n",
    "cur_task_detail_layout = [[sg.Text('Current Task Details')],\n",
    "                            [sg.Text(f\"{current_task.name}\", key='-MAX_NAME-'), sg.Text(f\"{current_task.est_mins_to_finish}\", key='-MAX_ETC-')],\n",
    "                            [sg.Text(f\"{current_task.rel_link}\", key='-MAX_LINK-')],\n",
    "                            [sg.Text(f\"{current_task.description}\", key='-MAX_DESCR-')],\n",
    "                            [sg.Button('Min'), sg.Button('New'), sg.Button('Complete'), sg.Button('Exit')]]\n",
    "\n",
    "completed_task_layout = [[sg.Text('Complete Task')],\n",
    "                        [sg.InputText(key=\"-COM_NOTES-\" ,default_text='Completion Notes')],\n",
    "                        [sg.Button('Close'), sg.Button('Freeze')]]"
   ]
  },
  {
   "cell_type": "code",
   "execution_count": 17,
   "metadata": {},
   "outputs": [],
   "source": [
    "Layout = [[sg.Column(cur_task_min_layout, key='-CUR_TASK_MIN-'),\n",
    "             sg.Column(new_task_layout, key='-NEW_TASK-', visible=False), \n",
    "            sg.Column(cur_task_detail_layout, key='-CUR_TASK_DETAIL-', visible=False),\n",
    "            sg.Column(completed_task_layout, key='-COMPLETE-', visible=False)]]"
   ]
  },
  {
   "cell_type": "code",
   "execution_count": 18,
   "metadata": {
    "tags": []
   },
   "outputs": [
    {
     "output_type": "stream",
     "name": "stdout",
     "text": "None {'-NEW_NAME-': None, '-NEW_PRIO-': None, '-NEW_LINK-': None, '-NEW_ETC-': None, '-NEW_DESCR-': None, '-COM_NOTES-': None}\n"
    }
   ],
   "source": [
    "window = sg.Window('Swapping the contents of a window', Layout)\n",
    "\n",
    "layout = \"-CUR_TASK_MIN-\"  # The currently visible cur_layout\n",
    "while True:\n",
    "    event, values = window.read()\n",
    "    print(event, values)\n",
    "    if event in (None, 'Exit') or 'Exit' in event:\n",
    "        break\n",
    "    if event == 'Max': # Shift from min view to max, detailed view\n",
    "        window[layout].update(visible=False)\n",
    "        window[f'-CUR_TASK_DETAIL-'].update(visible=True)\n",
    "        layout = '-CUR_TASK_DETAIL-'\n",
    "    elif event == 'Min': # Shift from Maximum detailed view, to minimum focused view\n",
    "        window[layout].update(visible=False)\n",
    "        window[f'-CUR_TASK_MIN-'].update(visible=True)\n",
    "        layout = '-CUR_TASK_MIN-'\n",
    "    elif event == 'New': # Add a new task\n",
    "        window[layout].update(visible=False)\n",
    "        window['-NEW_TASK-'].update(visible=True)\n",
    "        layout = '-NEW_TASK-'\n",
    "    elif 'Submit' in event: # Submit newly created task and add it to the queue\n",
    "        window[layout].update(visible=False)\n",
    "        # Create new Task with input data, add to queue\n",
    "        window = clear_new_task(window)\n",
    "        window['-CUR_TASK_MIN-'].update(visible=True)\n",
    "        layout = '-CUR_TASK_MIN-'\n",
    "    elif 'Complete' in event:  # Complete the current task. Mark it complete, and leave some notes\n",
    "        window[layout].update(visible=False)\n",
    "        window['-COMPLETE-'].update(visible=True)\n",
    "        layout = '-COMPLETE-'\n",
    "    elif event == 'Freeze': # Freeze task; put on hold temporarily. Will be re-added to front of queue, and become the current task again after the new current task is completed. \n",
    "        pass                # Functionality and usage still under development. \n",
    "    elif event == 'Close': # Close the current task. File it under completed, and get the next task.\n",
    "        window[layout].update(visible=False)\n",
    "        # Get next Task, set current_task = next Task\n",
    "        window = update_window(window, current_task)\n",
    "        window['-CUR_TASK_MIN-'].update(visible=True)\n",
    "        layout = '-CUR_TASK_MIN-'\n",
    "\n",
    "\n",
    "\n",
    "window.close()"
   ]
  },
  {
   "cell_type": "code",
   "execution_count": null,
   "metadata": {},
   "outputs": [],
   "source": []
  }
 ],
 "metadata": {
  "language_info": {
   "codemirror_mode": {
    "name": "ipython",
    "version": 3
   },
   "file_extension": ".py",
   "mimetype": "text/x-python",
   "name": "python",
   "nbconvert_exporter": "python",
   "pygments_lexer": "ipython3",
   "version": 3
  },
  "orig_nbformat": 2,
  "kernelspec": {
   "name": "python_defaultSpec_1599362315568",
   "display_name": "Python 3.7.3 64-bit ('cphil': virtualenv)"
  }
 },
 "nbformat": 4,
 "nbformat_minor": 2
}