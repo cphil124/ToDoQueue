{
 "cells": [
  {
   "cell_type": "code",
   "execution_count": 9,
   "metadata": {},
   "outputs": [
    {
     "output_type": "error",
     "ename": "ModuleNotFoundError",
     "evalue": "No module named '__main__.task'; '__main__' is not a package",
     "traceback": [
      "\u001b[1;31m---------------------------------------------------------------------------\u001b[0m",
      "\u001b[1;31mModuleNotFoundError\u001b[0m                       Traceback (most recent call last)",
      "\u001b[1;32m<ipython-input-9-e6f2bdc22197>\u001b[0m in \u001b[0;36m<module>\u001b[1;34m\u001b[0m\n\u001b[0;32m      1\u001b[0m \u001b[1;32mimport\u001b[0m \u001b[0mPySimpleGUI\u001b[0m \u001b[1;32mas\u001b[0m \u001b[0msg\u001b[0m\u001b[1;33m\u001b[0m\u001b[1;33m\u001b[0m\u001b[0m\n\u001b[1;32m----> 2\u001b[1;33m \u001b[1;32mfrom\u001b[0m \u001b[1;33m.\u001b[0m\u001b[0mtask\u001b[0m \u001b[1;32mimport\u001b[0m \u001b[0mTask\u001b[0m\u001b[1;33m\u001b[0m\u001b[1;33m\u001b[0m\u001b[0m\n\u001b[0m\u001b[0;32m      3\u001b[0m \u001b[1;32mfrom\u001b[0m \u001b[1;33m.\u001b[0m\u001b[0mQueueManager\u001b[0m\u001b[1;33m.\u001b[0m\u001b[0mtodo_manager\u001b[0m \u001b[1;32mimport\u001b[0m \u001b[0mTodo\u001b[0m\u001b[1;33m\u001b[0m\u001b[1;33m\u001b[0m\u001b[0m\n\u001b[0;32m      4\u001b[0m \u001b[1;31m# from ToDoQueue.QueueManager.todo_manager import Todo\u001b[0m\u001b[1;33m\u001b[0m\u001b[1;33m\u001b[0m\u001b[1;33m\u001b[0m\u001b[0m\n\u001b[0;32m      5\u001b[0m \u001b[1;31m# from TodoQueue.task import Task\u001b[0m\u001b[1;33m\u001b[0m\u001b[1;33m\u001b[0m\u001b[1;33m\u001b[0m\u001b[0m\n",
      "\u001b[1;31mModuleNotFoundError\u001b[0m: No module named '__main__.task'; '__main__' is not a package"
     ]
    }
   ],
   "source": [
    "import PySimpleGUI as sg\n",
    "from ToDoQueue.task import Task\n",
    "from ToDoQueue.QueueManager.todo_manager import Todo\n",
    "# from ToDoQueue.QueueManager.todo_manager import Todo\n",
    "# from TodoQueue.task import Task"
   ]
  },
  {
   "cell_type": "code",
   "execution_count": 2,
   "metadata": {},
   "outputs": [],
   "source": [
    "new_task = [[sg.Text('New Task')]]\n",
    "\n",
    "cur_task_min = [[sg.Text('Current Task Min')]]\n",
    "\n",
    "cur_task_detail = [[sg.Text('Current Task Details')]]"
   ]
  },
  {
   "cell_type": "code",
   "execution_count": 3,
   "metadata": {},
   "outputs": [],
   "source": [
    "Layout = [[sg.Column(cur_task_min, key='-CUR_TASK_MIN-'),\n",
    "             sg.Column(new_task, key='-NEW_TASK-', visible=False), \n",
    "            sg.Column(cur_task_detail, key='-CUR_TASK_DETAIL-', visible=False)], \n",
    "            [sg.Button('Cycle Layout'), sg.Button('1'), sg.Button('2'), sg.Button('3'), sg.Button('Exit')]]"
   ]
  },
  {
   "cell_type": "code",
   "execution_count": 4,
   "metadata": {
    "tags": []
   },
   "outputs": [
    {
     "output_type": "stream",
     "name": "stdout",
     "text": "Cycle Layout {}\nCycle Layout {}\nCycle Layout {}\nCycle Layout {}\nCycle Layout {}\nExit {}\n"
    }
   ],
   "source": [
    "window = sg.Window('Swapping the contents of a window', Layout)\n",
    "\n",
    "cur_layout = 1  # The currently visible cur_layout\n",
    "while True:\n",
    "    event, values = window.read()\n",
    "    print(event, values)\n",
    "    if event in (None, 'Exit'):\n",
    "        break\n",
    "    if event == 'Cycle Layout':\n",
    "        window[f'-COL{cur_layout}-'].update(visible=False)\n",
    "        cur_layout = cur_layout + 1 if cur_layout < 4 else 1\n",
    "        window[f'-COL{cur_layout}-'].update(visible=True)\n",
    "    elif event in '1234':\n",
    "        window[f'-COL{cur_layout}-'].update(visible=False)\n",
    "        cur_layout = int(event)\n",
    "        window[f'-COL{cur_layout}-'].update(visible=True)\n",
    "window.close()"
   ]
  },
  {
   "cell_type": "code",
   "execution_count": null,
   "metadata": {},
   "outputs": [],
   "source": []
  }
 ],
 "metadata": {
  "language_info": {
   "codemirror_mode": {
    "name": "ipython",
    "version": 3
   },
   "file_extension": ".py",
   "mimetype": "text/x-python",
   "name": "python",
   "nbconvert_exporter": "python",
   "pygments_lexer": "ipython3",
   "version": 3
  },
  "orig_nbformat": 2,
  "kernelspec": {
   "name": "python_defaultSpec_1599345213954",
   "display_name": "Python 3.7.3 64-bit ('cphil': virtualenv)"
  }
 },
 "nbformat": 4,
 "nbformat_minor": 2
}